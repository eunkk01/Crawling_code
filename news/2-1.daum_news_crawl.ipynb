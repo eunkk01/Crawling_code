{
 "cells": [
  {
   "cell_type": "code",
   "execution_count": 1,
   "id": "0e44872b",
   "metadata": {},
   "outputs": [],
   "source": [
    "import warnings\n",
    "warnings.filterwarnings(\"ignore\")\n",
    "\n",
    "import pandas as pd\n",
    "import numpy as np\n",
    "import requests\n",
    "import time\n",
    "from tqdm import tqdm\n",
    "import os\n",
    "import re\n",
    "import datetime\n",
    "\n",
    "import selenium\n",
    "from selenium import webdriver\n",
    "from webdriver_manager.chrome import ChromeDriverManager\n",
    "from selenium.webdriver.chrome.service import Service\n",
    "from selenium.webdriver.common.by import By\n",
    "from selenium.webdriver.common.keys import Keys\n",
    "from selenium.webdriver.support import expected_conditions as EC\n",
    "from selenium.webdriver.support.wait import WebDriverWait\n",
    "from selenium.common.exceptions import NoSuchElementException # 검색 결과가 없는 경우 예외 처리\n",
    "from bs4 import BeautifulSoup"
   ]
  },
  {
   "cell_type": "code",
   "execution_count": 3,
   "id": "e4dbd194",
   "metadata": {},
   "outputs": [
    {
     "name": "stdout",
     "output_type": "stream",
     "text": [
      "20231025000000 20231025235959 231025\n"
     ]
    }
   ],
   "source": [
    "# 수집 날짜 지정(전일자)\n",
    "before_one_day = datetime.datetime.now() - datetime.timedelta(days=1)\n",
    "D, d = before_one_day.strftime(\"%Y%m%d000000\"), before_one_day.strftime(\"%Y%m%d235959\")\n",
    "db_date = d[2:8]\n",
    "print(D, d, db_date)"
   ]
  },
  {
   "cell_type": "code",
   "execution_count": 4,
   "id": "65537baf",
   "metadata": {},
   "outputs": [],
   "source": [
    "# conn = db_connection('')\n",
    "# news_link = pd.read_sql(f\"select * from db_name where is_status = 0 and daum IS NULL;\", conn)\n",
    "# conn.close()"
   ]
  },
  {
   "cell_type": "code",
   "execution_count": null,
   "id": "d08abb68",
   "metadata": {},
   "outputs": [],
   "source": [
    "news_link = pd.read_xlsx(f'naver_news_{d}.xlsx')"
   ]
  },
  {
   "cell_type": "code",
   "execution_count": 5,
   "id": "77b0d396",
   "metadata": {
    "scrolled": true
   },
   "outputs": [
    {
     "data": {
      "text/html": [
       "<div>\n",
       "<style scoped>\n",
       "    .dataframe tbody tr th:only-of-type {\n",
       "        vertical-align: middle;\n",
       "    }\n",
       "\n",
       "    .dataframe tbody tr th {\n",
       "        vertical-align: top;\n",
       "    }\n",
       "\n",
       "    .dataframe thead th {\n",
       "        text-align: right;\n",
       "    }\n",
       "</style>\n",
       "<table border=\"1\" class=\"dataframe\">\n",
       "  <thead>\n",
       "    <tr style=\"text-align: right;\">\n",
       "      <th></th>\n",
       "      <th>id</th>\n",
       "      <th>ck_idx</th>\n",
       "      <th>news</th>\n",
       "      <th>title</th>\n",
       "      <th>href</th>\n",
       "      <th>is_status</th>\n",
       "      <th>text</th>\n",
       "      <th>daum</th>\n",
       "      <th>write_date</th>\n",
       "      <th>regist_date</th>\n",
       "    </tr>\n",
       "  </thead>\n",
       "  <tbody>\n",
       "    <tr>\n",
       "      <th>0</th>\n",
       "      <td>3</td>\n",
       "      <td>84</td>\n",
       "      <td>광주매일신문</td>\n",
       "      <td>'2tv 생생정보 맛집'…홍게 무한리필 外</td>\n",
       "      <td>http://www.kjdaily.com/article.php?aid=1698226...</td>\n",
       "      <td>0</td>\n",
       "      <td>None</td>\n",
       "      <td>None</td>\n",
       "      <td>None</td>\n",
       "      <td>2023-10-25 23:42:23</td>\n",
       "    </tr>\n",
       "    <tr>\n",
       "      <th>1</th>\n",
       "      <td>5</td>\n",
       "      <td>84</td>\n",
       "      <td>금강일보</td>\n",
       "      <td>[생방송 오늘저녁] 쭈꾸미 볶음 맛집 위치는?</td>\n",
       "      <td>http://www.ggilbo.com/news/articleView.html?id...</td>\n",
       "      <td>0</td>\n",
       "      <td>None</td>\n",
       "      <td>None</td>\n",
       "      <td>None</td>\n",
       "      <td>2023-10-25 23:42:23</td>\n",
       "    </tr>\n",
       "    <tr>\n",
       "      <th>2</th>\n",
       "      <td>6</td>\n",
       "      <td>84</td>\n",
       "      <td>Queen</td>\n",
       "      <td>[생방송 투데이 맛집] '한우 더덕 불고기' 맛집</td>\n",
       "      <td>http://www.queen.co.kr/news/articleView.html?i...</td>\n",
       "      <td>0</td>\n",
       "      <td>None</td>\n",
       "      <td>None</td>\n",
       "      <td>None</td>\n",
       "      <td>2023-10-25 23:42:23</td>\n",
       "    </tr>\n",
       "    <tr>\n",
       "      <th>3</th>\n",
       "      <td>8</td>\n",
       "      <td>84</td>\n",
       "      <td>티브이데일리</td>\n",
       "      <td>[TD포토] 더보이즈 주연 '믿고보는 비주얼 맛집'</td>\n",
       "      <td>http://www.tvdaily.co.kr/read.php3?aid=1698224...</td>\n",
       "      <td>0</td>\n",
       "      <td>None</td>\n",
       "      <td>None</td>\n",
       "      <td>None</td>\n",
       "      <td>2023-10-25 23:42:23</td>\n",
       "    </tr>\n",
       "    <tr>\n",
       "      <th>4</th>\n",
       "      <td>10</td>\n",
       "      <td>84</td>\n",
       "      <td>이투데이</td>\n",
       "      <td>‘생방송 투데이’ 오늘방송맛집- 역주행, 눈과 입이 즐겁다! 파스타 맛집 ‘온○’</td>\n",
       "      <td>https://www.etoday.co.kr/news/view/2295934</td>\n",
       "      <td>0</td>\n",
       "      <td>None</td>\n",
       "      <td>None</td>\n",
       "      <td>None</td>\n",
       "      <td>2023-10-25 23:42:23</td>\n",
       "    </tr>\n",
       "  </tbody>\n",
       "</table>\n",
       "</div>"
      ],
      "text/plain": [
       "   id  ck_idx    news                                          title  \\\n",
       "0   3      84  광주매일신문                        '2tv 생생정보 맛집'…홍게 무한리필 外   \n",
       "1   5      84    금강일보                      [생방송 오늘저녁] 쭈꾸미 볶음 맛집 위치는?   \n",
       "2   6      84   Queen                    [생방송 투데이 맛집] '한우 더덕 불고기' 맛집   \n",
       "3   8      84  티브이데일리                   [TD포토] 더보이즈 주연 '믿고보는 비주얼 맛집'   \n",
       "4  10      84    이투데이  ‘생방송 투데이’ 오늘방송맛집- 역주행, 눈과 입이 즐겁다! 파스타 맛집 ‘온○’   \n",
       "\n",
       "                                                href  is_status  text  daum  \\\n",
       "0  http://www.kjdaily.com/article.php?aid=1698226...          0  None  None   \n",
       "1  http://www.ggilbo.com/news/articleView.html?id...          0  None  None   \n",
       "2  http://www.queen.co.kr/news/articleView.html?i...          0  None  None   \n",
       "3  http://www.tvdaily.co.kr/read.php3?aid=1698224...          0  None  None   \n",
       "4         https://www.etoday.co.kr/news/view/2295934          0  None  None   \n",
       "\n",
       "  write_date         regist_date  \n",
       "0       None 2023-10-25 23:42:23  \n",
       "1       None 2023-10-25 23:42:23  \n",
       "2       None 2023-10-25 23:42:23  \n",
       "3       None 2023-10-25 23:42:23  \n",
       "4       None 2023-10-25 23:42:23  "
      ]
     },
     "execution_count": 5,
     "metadata": {},
     "output_type": "execute_result"
    }
   ],
   "source": [
    "# is_status = 0: 네이버 뉴스가 없다는 표기 -> 다음뉴스 수집\n",
    "news_link = news_link[(news_link['is_status']==0)&(news_link['daum'].isnull()==True)]\n",
    "news_link.head()"
   ]
  },
  {
   "cell_type": "code",
   "execution_count": 6,
   "id": "8dd993f6",
   "metadata": {},
   "outputs": [
    {
     "data": {
      "text/plain": [
       "8506"
      ]
     },
     "execution_count": 6,
     "metadata": {},
     "output_type": "execute_result"
    }
   ],
   "source": [
    "len(news_link)"
   ]
  },
  {
   "cell_type": "markdown",
   "id": "0d5247cb",
   "metadata": {},
   "source": [
    "----"
   ]
  },
  {
   "cell_type": "code",
   "execution_count": 19,
   "id": "23c0fe85",
   "metadata": {},
   "outputs": [
    {
     "name": "stderr",
     "output_type": "stream",
     "text": [
      "100%|█████████████████████████████████████████| 400/400 [16:18<00:00,  2.45s/it]\n"
     ]
    }
   ],
   "source": [
    "# 뉴스 링크 담을 DataFrame\n",
    "news_href = pd.DataFrame(columns = ['ck_idx', 'news', 'title', 'href', 'is_status'])\n",
    "daum_search = pd.DataFrame(columns = ['id', 'title', 'status'])\n",
    "\n",
    "drv = webdriver.Chrome(service=Service(ChromeDriverManager().install()))\n",
    "\n",
    "for i in tqdm(range(len(news_link))):\n",
    "    crawl = True\n",
    "    drv.get(f'https://search.daum.net/search?w=news&nil_search=btn&DA=NTB&enc=utf8&cluster=y&cluster_page=1&q={news_link[\"title\"][i]}&sd={D}&ed={d}&period=u')\n",
    "    time.sleep(2)\n",
    "    soup = BeautifulSoup(drv.page_source, 'html.parser')\n",
    "    \n",
    "    news_box = soup.find('ul', {'class':'list_news'})\n",
    "    try:\n",
    "        news_list = news_box.findAll('div', {'class':'wrap_cont'})\n",
    "\n",
    "        for lenth in range(len(news_list)):\n",
    "            if len(news_list[lenth].find('span', {'class':'cont_info'}).findAll('a', {'class':'f_nb'})) >= 2:\n",
    "                title = news_list[lenth].find('a', {'class':'tit_main fn_tit_u'}).get_text().strip()\n",
    "                news_name = news_list[lenth].find('span', {'class':'cont_info'}).findAll('a', {'class':'f_nb'})[0].text.strip()\n",
    "                href = news_list[lenth].find('span', {'class':'cont_info'}).findAll('a', {'class':'f_nb'})[-1]['href']\n",
    "\n",
    "                data = pd.DataFrame({'ck_idx':news_link['ck_idx'][i], 'news':[news_name], 'title':[title], 'href':[href], 'is_status':[2]})\n",
    "                news_href = pd.concat([news_href, data], ignore_index=True)\n",
    "                \n",
    "                data2 = pd.DataFrame({'id':news_link['id'][i], 'title':news_link['title'][i], 'status':[1]})\n",
    "                daum_search = pd.concat([daum_search, data2], ignore_index=True)\n",
    "            else:\n",
    "                data2 = pd.DataFrame({'id':news_link['id'][i], 'title':news_link['title'][i], 'status':[0]})\n",
    "                daum_search = pd.concat([daum_search, data2], ignore_index=True)\n",
    "                pass\n",
    "    except:\n",
    "        data2 = pd.DataFrame({'id':news_link['id'][i], 'title':news_link['title'][i], 'status':[0]})\n",
    "        daum_search = pd.concat([daum_search, data2], ignore_index=True)\n",
    "        pass\n",
    "\n",
    "drv.close()"
   ]
  },
  {
   "cell_type": "code",
   "execution_count": 20,
   "id": "e5165b90",
   "metadata": {},
   "outputs": [
    {
     "name": "stdout",
     "output_type": "stream",
     "text": [
      "416\n"
     ]
    },
    {
     "data": {
      "text/html": [
       "<div>\n",
       "<style scoped>\n",
       "    .dataframe tbody tr th:only-of-type {\n",
       "        vertical-align: middle;\n",
       "    }\n",
       "\n",
       "    .dataframe tbody tr th {\n",
       "        vertical-align: top;\n",
       "    }\n",
       "\n",
       "    .dataframe thead th {\n",
       "        text-align: right;\n",
       "    }\n",
       "</style>\n",
       "<table border=\"1\" class=\"dataframe\">\n",
       "  <thead>\n",
       "    <tr style=\"text-align: right;\">\n",
       "      <th></th>\n",
       "      <th>ck_idx</th>\n",
       "      <th>news</th>\n",
       "      <th>title</th>\n",
       "      <th>href</th>\n",
       "      <th>is_status</th>\n",
       "    </tr>\n",
       "  </thead>\n",
       "  <tbody>\n",
       "    <tr>\n",
       "      <th>0</th>\n",
       "      <td>62</td>\n",
       "      <td>뉴스1</td>\n",
       "      <td>'슈퍼에이스' 복귀 지연, 전화위복되나…NC, 페디없이 스윕 노린다[준PO3]</td>\n",
       "      <td>http://v.daum.net/v/20231025081849225</td>\n",
       "      <td>2</td>\n",
       "    </tr>\n",
       "    <tr>\n",
       "      <th>1</th>\n",
       "      <td>62</td>\n",
       "      <td>한국일보</td>\n",
       "      <td>한국 여자축구, 26일 태국과 올림픽 예선 첫 경기...반드시 승리해야</td>\n",
       "      <td>http://v.daum.net/v/20231025172253409</td>\n",
       "      <td>2</td>\n",
       "    </tr>\n",
       "    <tr>\n",
       "      <th>2</th>\n",
       "      <td>62</td>\n",
       "      <td>OSEN</td>\n",
       "      <td>'0-3 패배' 라이언시티 감독 \"전북과 확연한 차이 인정\"[전주톡톡]</td>\n",
       "      <td>http://v.daum.net/v/20231025211926796</td>\n",
       "      <td>2</td>\n",
       "    </tr>\n",
       "    <tr>\n",
       "      <th>3</th>\n",
       "      <td>62</td>\n",
       "      <td>스포츠서울</td>\n",
       "      <td>가을 물들인 NC 젊은 마운드가 책임진다, ‘금빛’ 불펜 김영규의 존재감[SS인터뷰]</td>\n",
       "      <td>http://v.daum.net/v/20231025195907050</td>\n",
       "      <td>2</td>\n",
       "    </tr>\n",
       "    <tr>\n",
       "      <th>4</th>\n",
       "      <td>62</td>\n",
       "      <td>스포츠경향</td>\n",
       "      <td>‘스트라이커 본능’ 손흥민, 케인 없어 더 훨훨 난다</td>\n",
       "      <td>http://v.daum.net/v/20231025154408201</td>\n",
       "      <td>2</td>\n",
       "    </tr>\n",
       "    <tr>\n",
       "      <th>...</th>\n",
       "      <td>...</td>\n",
       "      <td>...</td>\n",
       "      <td>...</td>\n",
       "      <td>...</td>\n",
       "      <td>...</td>\n",
       "    </tr>\n",
       "    <tr>\n",
       "      <th>411</th>\n",
       "      <td>62</td>\n",
       "      <td>OSEN</td>\n",
       "      <td>\"바르사 대신 2200억 사우디 선택 네이마르, 부상으로 바르사 복귀 불가능\" 西 매체</td>\n",
       "      <td>http://v.daum.net/v/20231025074820695</td>\n",
       "      <td>2</td>\n",
       "    </tr>\n",
       "    <tr>\n",
       "      <th>412</th>\n",
       "      <td>62</td>\n",
       "      <td>OSEN</td>\n",
       "      <td>'차두리 코치 직관' 전북 vs 라이언시티, 선발 라인업 공개[오!쎈 전주]</td>\n",
       "      <td>http://v.daum.net/v/20231025184022004</td>\n",
       "      <td>2</td>\n",
       "    </tr>\n",
       "    <tr>\n",
       "      <th>413</th>\n",
       "      <td>62</td>\n",
       "      <td>마이데일리</td>\n",
       "      <td>맨유, 반전 3연승→힘겹게 3경기 연속 1점 차 V, 부활 기틀 마련</td>\n",
       "      <td>http://v.daum.net/v/20231025114515114</td>\n",
       "      <td>2</td>\n",
       "    </tr>\n",
       "    <tr>\n",
       "      <th>414</th>\n",
       "      <td>62</td>\n",
       "      <td>스포츠경향</td>\n",
       "      <td>유일한 한국인 APC 직원 이승훈 매니저 “어릴 때 장애인스포츠를 자연스럽게 접할 ...</td>\n",
       "      <td>http://v.daum.net/v/20231025103620095</td>\n",
       "      <td>2</td>\n",
       "    </tr>\n",
       "    <tr>\n",
       "      <th>415</th>\n",
       "      <td>62</td>\n",
       "      <td>매일경제</td>\n",
       "      <td>정예성 손준혁 김형곤 베겔3쿠션월드컵 “32강 본선이 눈앞에”</td>\n",
       "      <td>http://v.daum.net/v/20231025071800289</td>\n",
       "      <td>2</td>\n",
       "    </tr>\n",
       "  </tbody>\n",
       "</table>\n",
       "<p>416 rows × 5 columns</p>\n",
       "</div>"
      ],
      "text/plain": [
       "    ck_idx   news                                              title  \\\n",
       "0       62    뉴스1        '슈퍼에이스' 복귀 지연, 전화위복되나…NC, 페디없이 스윕 노린다[준PO3]   \n",
       "1       62   한국일보            한국 여자축구, 26일 태국과 올림픽 예선 첫 경기...반드시 승리해야   \n",
       "2       62   OSEN            '0-3 패배' 라이언시티 감독 \"전북과 확연한 차이 인정\"[전주톡톡]   \n",
       "3       62  스포츠서울    가을 물들인 NC 젊은 마운드가 책임진다, ‘금빛’ 불펜 김영규의 존재감[SS인터뷰]   \n",
       "4       62  스포츠경향                      ‘스트라이커 본능’ 손흥민, 케인 없어 더 훨훨 난다   \n",
       "..     ...    ...                                                ...   \n",
       "411     62   OSEN   \"바르사 대신 2200억 사우디 선택 네이마르, 부상으로 바르사 복귀 불가능\" 西 매체   \n",
       "412     62   OSEN         '차두리 코치 직관' 전북 vs 라이언시티, 선발 라인업 공개[오!쎈 전주]   \n",
       "413     62  마이데일리             맨유, 반전 3연승→힘겹게 3경기 연속 1점 차 V, 부활 기틀 마련   \n",
       "414     62  스포츠경향  유일한 한국인 APC 직원 이승훈 매니저 “어릴 때 장애인스포츠를 자연스럽게 접할 ...   \n",
       "415     62   매일경제                 정예성 손준혁 김형곤 베겔3쿠션월드컵 “32강 본선이 눈앞에”   \n",
       "\n",
       "                                      href is_status  \n",
       "0    http://v.daum.net/v/20231025081849225         2  \n",
       "1    http://v.daum.net/v/20231025172253409         2  \n",
       "2    http://v.daum.net/v/20231025211926796         2  \n",
       "3    http://v.daum.net/v/20231025195907050         2  \n",
       "4    http://v.daum.net/v/20231025154408201         2  \n",
       "..                                     ...       ...  \n",
       "411  http://v.daum.net/v/20231025074820695         2  \n",
       "412  http://v.daum.net/v/20231025184022004         2  \n",
       "413  http://v.daum.net/v/20231025114515114         2  \n",
       "414  http://v.daum.net/v/20231025103620095         2  \n",
       "415  http://v.daum.net/v/20231025071800289         2  \n",
       "\n",
       "[416 rows x 5 columns]"
      ]
     },
     "execution_count": 20,
     "metadata": {},
     "output_type": "execute_result"
    }
   ],
   "source": [
    "print(len(news_href))\n",
    "news_href"
   ]
  },
  {
   "cell_type": "code",
   "execution_count": 22,
   "id": "017100ed",
   "metadata": {
    "scrolled": true
   },
   "outputs": [
    {
     "name": "stdout",
     "output_type": "stream",
     "text": [
      "360\n"
     ]
    }
   ],
   "source": [
    "# 중복 제거\n",
    "news_dup = news_href.drop_duplicates(['news', 'title'], ignore_index = True)\n",
    "print(len(news_dup))"
   ]
  },
  {
   "cell_type": "code",
   "execution_count": null,
   "id": "ad35096b",
   "metadata": {},
   "outputs": [],
   "source": [
    "# 저장\n",
    "news_dup.to_xlsx(f'daum_news_{d}.xlsx')"
   ]
  },
  {
   "cell_type": "code",
   "execution_count": 23,
   "id": "b37364ec",
   "metadata": {},
   "outputs": [],
   "source": [
    "# user_nm = db_id\n",
    "# passwd = db_pw\n",
    "# host_url = host\n",
    "# port_num = num\n",
    "# db_name = db_name\n",
    "# engine = create_engine('')\n",
    "# engine_conn = engine.connect()\n",
    "\n",
    "# insert\n",
    "# news_dup.to_sql(db_name, con=engine, if_exists='append', index=None)\n",
    "# engine_conn.close()\n",
    "# engine.dispose()"
   ]
  },
  {
   "cell_type": "code",
   "execution_count": 24,
   "id": "34e5b707",
   "metadata": {},
   "outputs": [
    {
     "data": {
      "text/plain": [
       "244"
      ]
     },
     "execution_count": 24,
     "metadata": {},
     "output_type": "execute_result"
    }
   ],
   "source": [
    "daum_search.drop_duplicates(['id', 'title'], ignore_index = True, inplace = True)\n",
    "len(daum_search[daum_search['status']==1])"
   ]
  },
  {
   "cell_type": "code",
   "execution_count": 25,
   "id": "7208996d",
   "metadata": {},
   "outputs": [
    {
     "name": "stderr",
     "output_type": "stream",
     "text": [
      "100%|█████████████████████████████████████████| 400/400 [02:07<00:00,  3.13it/s]\n"
     ]
    }
   ],
   "source": [
    "# for i in tqdm(range(len(daum_search))):\n",
    "#     conn = db_connection('')\n",
    "#     cur = conn.cursor()\n",
    "\n",
    "#     cur.execute(\n",
    "#         f'update db_name set daum={daum_search[\"status\"][i]} where id = \"{daum_search[\"id\"][i]}\"'\n",
    "#     )\n",
    "#     conn.commit()\n",
    "\n",
    "#     cur.close()\n",
    "#     conn.close()"
   ]
  },
  {
   "cell_type": "code",
   "execution_count": null,
   "id": "1f6fa750",
   "metadata": {},
   "outputs": [],
   "source": []
  }
 ],
 "metadata": {
  "kernelspec": {
   "display_name": "Python 3 (ipykernel)",
   "language": "python",
   "name": "python3"
  },
  "language_info": {
   "codemirror_mode": {
    "name": "ipython",
    "version": 3
   },
   "file_extension": ".py",
   "mimetype": "text/x-python",
   "name": "python",
   "nbconvert_exporter": "python",
   "pygments_lexer": "ipython3",
   "version": "3.11.3"
  }
 },
 "nbformat": 4,
 "nbformat_minor": 5
}
